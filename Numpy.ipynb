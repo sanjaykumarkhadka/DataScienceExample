{
 "cells": [
  {
   "cell_type": "code",
   "execution_count": 15,
   "id": "71c86468",
   "metadata": {},
   "outputs": [
    {
     "name": "stdout",
     "output_type": "stream",
     "text": [
      "11\n",
      "Time:  0.0005607000000509288\n"
     ]
    }
   ],
   "source": [
    "# finding the max number\n",
    "\n",
    "import pandas as pd\n",
    "import numpy as np\n",
    "import timeit\n",
    "\n",
    "start = timeit.default_timer()\n",
    "\n",
    "A = [1,7,3,4,11,2,6,9,8,10]\n",
    "max = 0\n",
    "for i in range(len(A)):\n",
    "    if A[i] > max :\n",
    "        max = A[i]\n",
    "        \n",
    "print(max)\n",
    "stop = timeit.default_timer()\n",
    "print('Time: ', stop - start)"
   ]
  },
  {
   "cell_type": "code",
   "execution_count": 16,
   "id": "181f6364",
   "metadata": {},
   "outputs": [
    {
     "name": "stdout",
     "output_type": "stream",
     "text": [
      "11\n",
      "Time:  0.00044000000002597517\n"
     ]
    }
   ],
   "source": [
    "start = timeit.default_timer()\n",
    "\n",
    "A = [1,7,3,4,11,2,6,9,8,10]\n",
    "A.sort()\n",
    "        \n",
    "print(A[-1])\n",
    "stop = timeit.default_timer()\n",
    "print('Time: ', stop - start)"
   ]
  },
  {
   "cell_type": "code",
   "execution_count": 33,
   "id": "8147bf38",
   "metadata": {},
   "outputs": [],
   "source": [
    "arr = np.array([1,2,3,4,5])"
   ]
  },
  {
   "cell_type": "code",
   "execution_count": 34,
   "id": "182971f0",
   "metadata": {},
   "outputs": [
    {
     "data": {
      "text/plain": [
       "array([1, 2, 3, 4, 5])"
      ]
     },
     "execution_count": 34,
     "metadata": {},
     "output_type": "execute_result"
    }
   ],
   "source": [
    "arr"
   ]
  },
  {
   "cell_type": "code",
   "execution_count": 35,
   "id": "34410913",
   "metadata": {},
   "outputs": [
    {
     "name": "stdout",
     "output_type": "stream",
     "text": [
      "[1 2 3 4 5]\n"
     ]
    }
   ],
   "source": [
    "print(arr)"
   ]
  },
  {
   "cell_type": "code",
   "execution_count": 37,
   "id": "f9d12cce",
   "metadata": {},
   "outputs": [],
   "source": [
    "a = [1,2,3,4,5]"
   ]
  },
  {
   "cell_type": "code",
   "execution_count": 38,
   "id": "c2adac18",
   "metadata": {},
   "outputs": [],
   "source": [
    "arr = np.array(a)"
   ]
  },
  {
   "cell_type": "code",
   "execution_count": 44,
   "id": "0b536261",
   "metadata": {},
   "outputs": [
    {
     "data": {
      "text/plain": [
       "(1, 5)"
      ]
     },
     "execution_count": 44,
     "metadata": {},
     "output_type": "execute_result"
    }
   ],
   "source": [
    "#indexing \n",
    "\n",
    "arr[0],arr[4]"
   ]
  },
  {
   "cell_type": "code",
   "execution_count": 189,
   "id": "f225d69a",
   "metadata": {},
   "outputs": [],
   "source": [
    "arr2 = np.array([[1,2,3,4],[5,6,7,8]])"
   ]
  },
  {
   "cell_type": "code",
   "execution_count": 190,
   "id": "293800b1",
   "metadata": {},
   "outputs": [
    {
     "data": {
      "text/plain": [
       "array([[1, 2, 3, 4],\n",
       "       [5, 6, 7, 8]])"
      ]
     },
     "execution_count": 190,
     "metadata": {},
     "output_type": "execute_result"
    }
   ],
   "source": [
    "arr2"
   ]
  },
  {
   "cell_type": "code",
   "execution_count": 47,
   "id": "d2547582",
   "metadata": {},
   "outputs": [
    {
     "data": {
      "text/plain": [
       "2"
      ]
     },
     "execution_count": 47,
     "metadata": {},
     "output_type": "execute_result"
    }
   ],
   "source": [
    "arr2[0,1]"
   ]
  },
  {
   "cell_type": "code",
   "execution_count": 48,
   "id": "8f0b5d25",
   "metadata": {},
   "outputs": [
    {
     "data": {
      "text/plain": [
       "5"
      ]
     },
     "execution_count": 48,
     "metadata": {},
     "output_type": "execute_result"
    }
   ],
   "source": [
    "arr2[1,0]"
   ]
  },
  {
   "cell_type": "code",
   "execution_count": 49,
   "id": "81dc08ca",
   "metadata": {},
   "outputs": [
    {
     "data": {
      "text/plain": [
       "8"
      ]
     },
     "execution_count": 49,
     "metadata": {},
     "output_type": "execute_result"
    }
   ],
   "source": [
    "arr2[1,-1] "
   ]
  },
  {
   "cell_type": "code",
   "execution_count": 50,
   "id": "1e72502f",
   "metadata": {},
   "outputs": [
    {
     "data": {
      "text/plain": [
       "4"
      ]
     },
     "execution_count": 50,
     "metadata": {},
     "output_type": "execute_result"
    }
   ],
   "source": [
    "arr2[0,-1]"
   ]
  },
  {
   "cell_type": "code",
   "execution_count": 53,
   "id": "de846039",
   "metadata": {},
   "outputs": [
    {
     "data": {
      "text/plain": [
       "8"
      ]
     },
     "execution_count": 53,
     "metadata": {},
     "output_type": "execute_result"
    }
   ],
   "source": [
    "arr2[-1,-1]"
   ]
  },
  {
   "cell_type": "code",
   "execution_count": 55,
   "id": "44e04a20",
   "metadata": {},
   "outputs": [
    {
     "data": {
      "text/plain": [
       "3"
      ]
     },
     "execution_count": 55,
     "metadata": {},
     "output_type": "execute_result"
    }
   ],
   "source": [
    "arr2[-2,-2]"
   ]
  },
  {
   "cell_type": "code",
   "execution_count": 57,
   "id": "2bc55033",
   "metadata": {},
   "outputs": [
    {
     "data": {
      "text/plain": [
       "2"
      ]
     },
     "execution_count": 57,
     "metadata": {},
     "output_type": "execute_result"
    }
   ],
   "source": [
    "arr2.ndim"
   ]
  },
  {
   "cell_type": "code",
   "execution_count": 58,
   "id": "fb022ea3",
   "metadata": {},
   "outputs": [
    {
     "data": {
      "text/plain": [
       "1"
      ]
     },
     "execution_count": 58,
     "metadata": {},
     "output_type": "execute_result"
    }
   ],
   "source": [
    "arr.ndim"
   ]
  },
  {
   "cell_type": "code",
   "execution_count": 59,
   "id": "a68ef875",
   "metadata": {},
   "outputs": [
    {
     "data": {
      "text/plain": [
       "array([[5, 6, 7, 8]])"
      ]
     },
     "execution_count": 59,
     "metadata": {},
     "output_type": "execute_result"
    }
   ],
   "source": [
    "arr2[1:]"
   ]
  },
  {
   "cell_type": "code",
   "execution_count": 60,
   "id": "f3f40440",
   "metadata": {},
   "outputs": [
    {
     "data": {
      "text/plain": [
       "array([[1, 2, 3, 4],\n",
       "       [5, 6, 7, 8]])"
      ]
     },
     "execution_count": 60,
     "metadata": {},
     "output_type": "execute_result"
    }
   ],
   "source": [
    "arr2"
   ]
  },
  {
   "cell_type": "code",
   "execution_count": 61,
   "id": "42d35d82",
   "metadata": {},
   "outputs": [
    {
     "data": {
      "text/plain": [
       "array([6, 7, 8])"
      ]
     },
     "execution_count": 61,
     "metadata": {},
     "output_type": "execute_result"
    }
   ],
   "source": [
    "arr2[1,1:]"
   ]
  },
  {
   "cell_type": "code",
   "execution_count": 63,
   "id": "533ee2d9",
   "metadata": {},
   "outputs": [
    {
     "data": {
      "text/plain": [
       "array([2, 3])"
      ]
     },
     "execution_count": 63,
     "metadata": {},
     "output_type": "execute_result"
    }
   ],
   "source": [
    "arr2[0,1:3]"
   ]
  },
  {
   "cell_type": "code",
   "execution_count": 67,
   "id": "add04b61",
   "metadata": {},
   "outputs": [
    {
     "data": {
      "text/plain": [
       "array([[1, 2, 3, 4]])"
      ]
     },
     "execution_count": 67,
     "metadata": {},
     "output_type": "execute_result"
    }
   ],
   "source": [
    "arr2[0:2:3]"
   ]
  },
  {
   "cell_type": "code",
   "execution_count": 69,
   "id": "db3f8a1e",
   "metadata": {},
   "outputs": [
    {
     "data": {
      "text/plain": [
       "array([[1, 2, 3, 4]])"
      ]
     },
     "execution_count": 69,
     "metadata": {},
     "output_type": "execute_result"
    }
   ],
   "source": [
    "arr2[::3]"
   ]
  },
  {
   "cell_type": "code",
   "execution_count": 70,
   "id": "0ade07b9",
   "metadata": {},
   "outputs": [
    {
     "data": {
      "text/plain": [
       "array([6, 7])"
      ]
     },
     "execution_count": 70,
     "metadata": {},
     "output_type": "execute_result"
    }
   ],
   "source": [
    "arr2[1,1:3]"
   ]
  },
  {
   "cell_type": "code",
   "execution_count": 71,
   "id": "63fc6ac2",
   "metadata": {},
   "outputs": [],
   "source": [
    "#data types"
   ]
  },
  {
   "cell_type": "code",
   "execution_count": 72,
   "id": "a0ee8a0a",
   "metadata": {},
   "outputs": [
    {
     "data": {
      "text/plain": [
       "dtype('int32')"
      ]
     },
     "execution_count": 72,
     "metadata": {},
     "output_type": "execute_result"
    }
   ],
   "source": [
    "arr2.dtype"
   ]
  },
  {
   "cell_type": "code",
   "execution_count": 76,
   "id": "8d5d0d5f",
   "metadata": {},
   "outputs": [],
   "source": [
    "arr3 = np.array(['pen','banana','apple'])"
   ]
  },
  {
   "cell_type": "code",
   "execution_count": 77,
   "id": "463fe634",
   "metadata": {},
   "outputs": [
    {
     "data": {
      "text/plain": [
       "dtype('<U6')"
      ]
     },
     "execution_count": 77,
     "metadata": {},
     "output_type": "execute_result"
    }
   ],
   "source": [
    "arr3.dtype"
   ]
  },
  {
   "cell_type": "code",
   "execution_count": 78,
   "id": "f24cbe94",
   "metadata": {},
   "outputs": [],
   "source": [
    "arr4 = np.array([1,'apple',2,'cat'])"
   ]
  },
  {
   "cell_type": "code",
   "execution_count": 80,
   "id": "57fb2d48",
   "metadata": {},
   "outputs": [
    {
     "data": {
      "text/plain": [
       "dtype('<U11')"
      ]
     },
     "execution_count": 80,
     "metadata": {},
     "output_type": "execute_result"
    }
   ],
   "source": [
    "arr4.dtype"
   ]
  },
  {
   "cell_type": "code",
   "execution_count": 99,
   "id": "f4a30fef",
   "metadata": {},
   "outputs": [],
   "source": [
    "arr5 = np.array([1.1,2.2,3.3])"
   ]
  },
  {
   "cell_type": "code",
   "execution_count": 100,
   "id": "56bf2a2f",
   "metadata": {},
   "outputs": [
    {
     "data": {
      "text/plain": [
       "dtype('float64')"
      ]
     },
     "execution_count": 100,
     "metadata": {},
     "output_type": "execute_result"
    }
   ],
   "source": [
    "arr5.dtype"
   ]
  },
  {
   "cell_type": "code",
   "execution_count": 101,
   "id": "fde53118",
   "metadata": {},
   "outputs": [],
   "source": [
    "arr5 = arr5.astype('i')"
   ]
  },
  {
   "cell_type": "code",
   "execution_count": 102,
   "id": "57c00107",
   "metadata": {},
   "outputs": [
    {
     "data": {
      "text/plain": [
       "dtype('int32')"
      ]
     },
     "execution_count": 102,
     "metadata": {},
     "output_type": "execute_result"
    }
   ],
   "source": [
    "arr5.dtype"
   ]
  },
  {
   "cell_type": "code",
   "execution_count": 103,
   "id": "405a5451",
   "metadata": {},
   "outputs": [
    {
     "data": {
      "text/plain": [
       "array([1, 2, 3], dtype=int32)"
      ]
     },
     "execution_count": 103,
     "metadata": {},
     "output_type": "execute_result"
    }
   ],
   "source": [
    "arr5"
   ]
  },
  {
   "cell_type": "code",
   "execution_count": 104,
   "id": "1ddeff6b",
   "metadata": {},
   "outputs": [
    {
     "data": {
      "text/plain": [
       "array([1, 2, 3], dtype=int32)"
      ]
     },
     "execution_count": 104,
     "metadata": {},
     "output_type": "execute_result"
    }
   ],
   "source": [
    "#view or copy\n",
    "\n",
    "x = arr5.view()\n",
    "x"
   ]
  },
  {
   "cell_type": "code",
   "execution_count": 105,
   "id": "bf6f97d2",
   "metadata": {},
   "outputs": [],
   "source": [
    "arr5[0] = 44"
   ]
  },
  {
   "cell_type": "code",
   "execution_count": 106,
   "id": "0c066144",
   "metadata": {},
   "outputs": [
    {
     "data": {
      "text/plain": [
       "array([44,  2,  3], dtype=int32)"
      ]
     },
     "execution_count": 106,
     "metadata": {},
     "output_type": "execute_result"
    }
   ],
   "source": [
    "x"
   ]
  },
  {
   "cell_type": "code",
   "execution_count": 107,
   "id": "82846bf5",
   "metadata": {},
   "outputs": [
    {
     "data": {
      "text/plain": [
       "array([44,  2,  3], dtype=int32)"
      ]
     },
     "execution_count": 107,
     "metadata": {},
     "output_type": "execute_result"
    }
   ],
   "source": [
    "y = arr5.copy()\n",
    "y"
   ]
  },
  {
   "cell_type": "code",
   "execution_count": 108,
   "id": "cb50ffdd",
   "metadata": {},
   "outputs": [],
   "source": [
    "arr5[2] = 234"
   ]
  },
  {
   "cell_type": "code",
   "execution_count": 109,
   "id": "22eade1b",
   "metadata": {},
   "outputs": [
    {
     "name": "stdout",
     "output_type": "stream",
     "text": [
      "[ 44   2 234]\n"
     ]
    }
   ],
   "source": [
    "print(x)"
   ]
  },
  {
   "cell_type": "code",
   "execution_count": 110,
   "id": "7bf6ac54",
   "metadata": {},
   "outputs": [
    {
     "name": "stdout",
     "output_type": "stream",
     "text": [
      "[44  2  3]\n"
     ]
    }
   ],
   "source": [
    "print(y)"
   ]
  },
  {
   "cell_type": "code",
   "execution_count": 111,
   "id": "3b348dac",
   "metadata": {},
   "outputs": [
    {
     "data": {
      "text/plain": [
       "array([ 44,   2, 234], dtype=int32)"
      ]
     },
     "execution_count": 111,
     "metadata": {},
     "output_type": "execute_result"
    }
   ],
   "source": [
    "x.base"
   ]
  },
  {
   "cell_type": "code",
   "execution_count": 113,
   "id": "83f54016",
   "metadata": {},
   "outputs": [
    {
     "name": "stdout",
     "output_type": "stream",
     "text": [
      "None\n"
     ]
    }
   ],
   "source": [
    "print(y.base)"
   ]
  },
  {
   "cell_type": "code",
   "execution_count": 114,
   "id": "ec31ed48",
   "metadata": {},
   "outputs": [
    {
     "data": {
      "text/plain": [
       "(3,)"
      ]
     },
     "execution_count": 114,
     "metadata": {},
     "output_type": "execute_result"
    }
   ],
   "source": [
    "arr5.shape"
   ]
  },
  {
   "cell_type": "code",
   "execution_count": 115,
   "id": "7915d60b",
   "metadata": {},
   "outputs": [
    {
     "data": {
      "text/plain": [
       "(2, 4)"
      ]
     },
     "execution_count": 115,
     "metadata": {},
     "output_type": "execute_result"
    }
   ],
   "source": [
    "arr2.shape"
   ]
  },
  {
   "cell_type": "code",
   "execution_count": 125,
   "id": "31bc7b94",
   "metadata": {},
   "outputs": [],
   "source": [
    "arr = np.array([1,2,3,4,5,6])"
   ]
  },
  {
   "cell_type": "code",
   "execution_count": 126,
   "id": "13e875a4",
   "metadata": {},
   "outputs": [
    {
     "data": {
      "text/plain": [
       "(6,)"
      ]
     },
     "execution_count": 126,
     "metadata": {},
     "output_type": "execute_result"
    }
   ],
   "source": [
    "arr.shape"
   ]
  },
  {
   "cell_type": "code",
   "execution_count": 127,
   "id": "039e853f",
   "metadata": {},
   "outputs": [],
   "source": [
    "newarr = arr.reshape(2,3)"
   ]
  },
  {
   "cell_type": "code",
   "execution_count": 128,
   "id": "e759f327",
   "metadata": {},
   "outputs": [
    {
     "data": {
      "text/plain": [
       "array([[1, 2, 3],\n",
       "       [4, 5, 6]])"
      ]
     },
     "execution_count": 128,
     "metadata": {},
     "output_type": "execute_result"
    }
   ],
   "source": [
    "newarr"
   ]
  },
  {
   "cell_type": "code",
   "execution_count": 139,
   "id": "f2b0a86a",
   "metadata": {},
   "outputs": [
    {
     "data": {
      "text/plain": [
       "array([[1, 2],\n",
       "       [3, 4],\n",
       "       [5, 6]])"
      ]
     },
     "execution_count": 139,
     "metadata": {},
     "output_type": "execute_result"
    }
   ],
   "source": [
    "newarr = arr.reshape(3,2)\n",
    "newarr"
   ]
  },
  {
   "cell_type": "code",
   "execution_count": 132,
   "id": "5241bd06",
   "metadata": {},
   "outputs": [],
   "source": [
    "newarr = newarr.reshape(-1)"
   ]
  },
  {
   "cell_type": "code",
   "execution_count": 140,
   "id": "048ab42f",
   "metadata": {},
   "outputs": [
    {
     "data": {
      "text/plain": [
       "(3, 2)"
      ]
     },
     "execution_count": 140,
     "metadata": {},
     "output_type": "execute_result"
    }
   ],
   "source": [
    "newarr.shape"
   ]
  },
  {
   "cell_type": "code",
   "execution_count": 136,
   "id": "cef79cf9",
   "metadata": {},
   "outputs": [
    {
     "data": {
      "text/plain": [
       "array([[1, 3, 5],\n",
       "       [2, 4, 6]])"
      ]
     },
     "execution_count": 136,
     "metadata": {},
     "output_type": "execute_result"
    }
   ],
   "source": [
    "np.transpose(newarr)"
   ]
  },
  {
   "cell_type": "code",
   "execution_count": 141,
   "id": "bdb763b2",
   "metadata": {},
   "outputs": [
    {
     "data": {
      "text/plain": [
       "array([1, 2, 3, 4, 5, 6])"
      ]
     },
     "execution_count": 141,
     "metadata": {},
     "output_type": "execute_result"
    }
   ],
   "source": [
    "newarr.flatten()"
   ]
  },
  {
   "cell_type": "code",
   "execution_count": 142,
   "id": "1cdd95e8",
   "metadata": {},
   "outputs": [],
   "source": [
    "arr6 = np.array([1,2,3,4])\n",
    "arr7 = np.array([5,6,7,8])"
   ]
  },
  {
   "cell_type": "code",
   "execution_count": 144,
   "id": "38ccd974",
   "metadata": {},
   "outputs": [
    {
     "data": {
      "text/plain": [
       "array([1, 2, 3, 4, 5, 6, 7, 8])"
      ]
     },
     "execution_count": 144,
     "metadata": {},
     "output_type": "execute_result"
    }
   ],
   "source": [
    "np.concatenate((arr6,arr7))"
   ]
  },
  {
   "cell_type": "code",
   "execution_count": 146,
   "id": "c1ce7f9f",
   "metadata": {},
   "outputs": [],
   "source": [
    "arr6one = np.array([[1,2,3],[4,5,6]])\n",
    "arr7two = np.array([[4,5,6],[7,8,9]])"
   ]
  },
  {
   "cell_type": "code",
   "execution_count": 150,
   "id": "c87dd720",
   "metadata": {},
   "outputs": [
    {
     "data": {
      "text/plain": [
       "array([[1, 2, 3, 4, 5, 6],\n",
       "       [4, 5, 6, 7, 8, 9]])"
      ]
     },
     "execution_count": 150,
     "metadata": {},
     "output_type": "execute_result"
    }
   ],
   "source": [
    "arrnew=np.concatenate((arr6one,arr7two),axis=1)\n",
    "arrnew"
   ]
  },
  {
   "cell_type": "code",
   "execution_count": 151,
   "id": "194c7e87",
   "metadata": {},
   "outputs": [
    {
     "data": {
      "text/plain": [
       "array([[1, 2, 3],\n",
       "       [4, 5, 6],\n",
       "       [4, 5, 6],\n",
       "       [7, 8, 9]])"
      ]
     },
     "execution_count": 151,
     "metadata": {},
     "output_type": "execute_result"
    }
   ],
   "source": [
    "arrnew=np.concatenate((arr6one,arr7two),axis=0)\n",
    "arrnew"
   ]
  },
  {
   "cell_type": "code",
   "execution_count": 168,
   "id": "4e1b41d9",
   "metadata": {},
   "outputs": [],
   "source": [
    "arr = np.array([4,5,2,3,1,7,94,2,4,2])"
   ]
  },
  {
   "cell_type": "code",
   "execution_count": 169,
   "id": "79d94f0b",
   "metadata": {},
   "outputs": [
    {
     "data": {
      "text/plain": [
       "array([ 1,  2,  2,  2,  3,  4,  4,  5,  7, 94])"
      ]
     },
     "execution_count": 169,
     "metadata": {},
     "output_type": "execute_result"
    }
   ],
   "source": [
    "np.sort(arr)"
   ]
  },
  {
   "cell_type": "code",
   "execution_count": 170,
   "id": "4e271381",
   "metadata": {},
   "outputs": [
    {
     "data": {
      "text/plain": [
       "array([ 4,  5,  2,  3,  1,  7, 94,  2,  4,  2])"
      ]
     },
     "execution_count": 170,
     "metadata": {},
     "output_type": "execute_result"
    }
   ],
   "source": [
    "arr"
   ]
  },
  {
   "cell_type": "code",
   "execution_count": 175,
   "id": "878efd04",
   "metadata": {},
   "outputs": [],
   "source": [
    "arr2 = np.array([[8,6,7],[3,5,1]])"
   ]
  },
  {
   "cell_type": "code",
   "execution_count": 177,
   "id": "67a39b65",
   "metadata": {},
   "outputs": [
    {
     "data": {
      "text/plain": [
       "array([[6, 7, 8],\n",
       "       [1, 3, 5]])"
      ]
     },
     "execution_count": 177,
     "metadata": {},
     "output_type": "execute_result"
    }
   ],
   "source": [
    "#sorted\n",
    "\n",
    "np.sort(arr2)"
   ]
  },
  {
   "cell_type": "code",
   "execution_count": 180,
   "id": "25d09197",
   "metadata": {},
   "outputs": [
    {
     "data": {
      "text/plain": [
       "array([[8, 6, 7],\n",
       "       [3, 5, 1]])"
      ]
     },
     "execution_count": 180,
     "metadata": {},
     "output_type": "execute_result"
    }
   ],
   "source": [
    "arr2"
   ]
  },
  {
   "cell_type": "code",
   "execution_count": 178,
   "id": "4adfeed2",
   "metadata": {},
   "outputs": [
    {
     "name": "stdout",
     "output_type": "stream",
     "text": [
      "[8 6 7]\n",
      "[3 5 1]\n"
     ]
    }
   ],
   "source": [
    "for i in arr2:\n",
    "    print(i)"
   ]
  },
  {
   "cell_type": "code",
   "execution_count": 181,
   "id": "eb84eaf9",
   "metadata": {},
   "outputs": [
    {
     "data": {
      "text/plain": [
       "array([ 4,  5,  2,  3,  1,  7, 94,  2,  4,  2])"
      ]
     },
     "execution_count": 181,
     "metadata": {},
     "output_type": "execute_result"
    }
   ],
   "source": [
    "arr"
   ]
  },
  {
   "cell_type": "code",
   "execution_count": 179,
   "id": "95e5e130",
   "metadata": {},
   "outputs": [
    {
     "name": "stdout",
     "output_type": "stream",
     "text": [
      "4\n",
      "5\n",
      "2\n",
      "3\n",
      "1\n",
      "7\n",
      "94\n",
      "2\n",
      "4\n",
      "2\n"
     ]
    }
   ],
   "source": [
    "for i in arr:\n",
    "    print(i)"
   ]
  },
  {
   "cell_type": "code",
   "execution_count": 182,
   "id": "e44f5a19",
   "metadata": {},
   "outputs": [
    {
     "name": "stdout",
     "output_type": "stream",
     "text": [
      "8\n",
      "6\n",
      "7\n",
      "3\n",
      "5\n",
      "1\n"
     ]
    }
   ],
   "source": [
    "for i in arr2:\n",
    "    for j in i:\n",
    "        print(j)"
   ]
  },
  {
   "cell_type": "code",
   "execution_count": 183,
   "id": "2a6d251a",
   "metadata": {},
   "outputs": [
    {
     "name": "stdout",
     "output_type": "stream",
     "text": [
      "8\n",
      "6\n",
      "7\n",
      "3\n",
      "5\n",
      "1\n"
     ]
    }
   ],
   "source": [
    "for i in np.nditer(arr2):\n",
    "    print(i)"
   ]
  },
  {
   "cell_type": "code",
   "execution_count": 185,
   "id": "6ddffe7a",
   "metadata": {},
   "outputs": [
    {
     "name": "stdout",
     "output_type": "stream",
     "text": [
      "1\n",
      "apple\n",
      "2\n",
      "cat\n"
     ]
    }
   ],
   "source": [
    "for i in np.nditer(arr4):\n",
    "    print(i)"
   ]
  },
  {
   "cell_type": "code",
   "execution_count": 193,
   "id": "895eddb2",
   "metadata": {},
   "outputs": [],
   "source": [
    "arr = arr2.reshape(-1)"
   ]
  },
  {
   "cell_type": "code",
   "execution_count": 199,
   "id": "a3864af8",
   "metadata": {},
   "outputs": [
    {
     "data": {
      "text/plain": [
       "array([1, 2, 3, 4, 5, 6, 7, 8])"
      ]
     },
     "execution_count": 199,
     "metadata": {},
     "output_type": "execute_result"
    }
   ],
   "source": [
    "arr"
   ]
  },
  {
   "cell_type": "code",
   "execution_count": 200,
   "id": "8ef0ec04",
   "metadata": {},
   "outputs": [
    {
     "data": {
      "text/plain": [
       "array([[1, 2, 3, 4],\n",
       "       [5, 6, 7, 8]])"
      ]
     },
     "execution_count": 200,
     "metadata": {},
     "output_type": "execute_result"
    }
   ],
   "source": [
    "arr2"
   ]
  },
  {
   "cell_type": "code",
   "execution_count": 209,
   "id": "e7887f2a",
   "metadata": {},
   "outputs": [],
   "source": [
    "r=np.where(arr2%2==0)"
   ]
  },
  {
   "cell_type": "code",
   "execution_count": 210,
   "id": "08317921",
   "metadata": {},
   "outputs": [
    {
     "data": {
      "text/plain": [
       "(array([0, 0, 1, 1], dtype=int64), array([1, 3, 1, 3], dtype=int64))"
      ]
     },
     "execution_count": 210,
     "metadata": {},
     "output_type": "execute_result"
    }
   ],
   "source": [
    "r"
   ]
  },
  {
   "cell_type": "code",
   "execution_count": 212,
   "id": "ec2d539e",
   "metadata": {},
   "outputs": [
    {
     "data": {
      "text/plain": [
       "array([[1, 2, 3, 4],\n",
       "       [5, 6, 7, 8]])"
      ]
     },
     "execution_count": 212,
     "metadata": {},
     "output_type": "execute_result"
    }
   ],
   "source": [
    "arr2"
   ]
  },
  {
   "cell_type": "code",
   "execution_count": 215,
   "id": "d7070213",
   "metadata": {},
   "outputs": [
    {
     "data": {
      "text/plain": [
       "6"
      ]
     },
     "execution_count": 215,
     "metadata": {},
     "output_type": "execute_result"
    }
   ],
   "source": [
    "x=np.searchsorted(arr,7)\n",
    "x"
   ]
  },
  {
   "cell_type": "code",
   "execution_count": 216,
   "id": "9dfa93ff",
   "metadata": {},
   "outputs": [
    {
     "data": {
      "text/plain": [
       "8"
      ]
     },
     "execution_count": 216,
     "metadata": {},
     "output_type": "execute_result"
    }
   ],
   "source": [
    "x=np.searchsorted(arr,700)\n",
    "x"
   ]
  },
  {
   "cell_type": "code",
   "execution_count": 217,
   "id": "a90faa32",
   "metadata": {},
   "outputs": [
    {
     "data": {
      "text/plain": [
       "array([1, 2, 3, 4, 5, 6, 7, 8])"
      ]
     },
     "execution_count": 217,
     "metadata": {},
     "output_type": "execute_result"
    }
   ],
   "source": [
    "arr"
   ]
  },
  {
   "cell_type": "code",
   "execution_count": 219,
   "id": "29720d05",
   "metadata": {},
   "outputs": [
    {
     "data": {
      "text/plain": [
       "array([4, 0], dtype=int64)"
      ]
     },
     "execution_count": 219,
     "metadata": {},
     "output_type": "execute_result"
    }
   ],
   "source": [
    "x=np.searchsorted(arr,[5,1])\n",
    "x"
   ]
  },
  {
   "cell_type": "code",
   "execution_count": 220,
   "id": "d3f3d2bf",
   "metadata": {},
   "outputs": [],
   "source": [
    "arrk = np.array([1,3,2,1,2,5,32,53,21,67])"
   ]
  },
  {
   "cell_type": "code",
   "execution_count": 229,
   "id": "571f784f",
   "metadata": {},
   "outputs": [
    {
     "data": {
      "text/plain": [
       "6"
      ]
     },
     "execution_count": 229,
     "metadata": {},
     "output_type": "execute_result"
    }
   ],
   "source": [
    "u = np.searchsorted(arrk,21)\n",
    "u"
   ]
  },
  {
   "cell_type": "code",
   "execution_count": 223,
   "id": "79431355",
   "metadata": {},
   "outputs": [
    {
     "data": {
      "text/plain": [
       "array([ 1,  3,  2,  1,  2,  5, 32, 53, 21, 67])"
      ]
     },
     "execution_count": 223,
     "metadata": {},
     "output_type": "execute_result"
    }
   ],
   "source": [
    "arrk"
   ]
  },
  {
   "cell_type": "code",
   "execution_count": 227,
   "id": "85dae8ed",
   "metadata": {},
   "outputs": [
    {
     "name": "stdout",
     "output_type": "stream",
     "text": [
      "[ 1  1  2  2  3  5 21 32 53 67]\n"
     ]
    }
   ],
   "source": [
    "j =np.sort(arrk)\n",
    "print(j)"
   ]
  },
  {
   "cell_type": "code",
   "execution_count": 236,
   "id": "56d7a8df",
   "metadata": {},
   "outputs": [],
   "source": [
    "arrb = [True,False,True,False]"
   ]
  },
  {
   "cell_type": "code",
   "execution_count": 237,
   "id": "f2d99c58",
   "metadata": {},
   "outputs": [],
   "source": [
    "arrb = np.array(arrb)"
   ]
  },
  {
   "cell_type": "code",
   "execution_count": 245,
   "id": "6d7cbd1f",
   "metadata": {},
   "outputs": [],
   "source": [
    "arr = np.array([11,12,33,44])"
   ]
  },
  {
   "cell_type": "code",
   "execution_count": 246,
   "id": "0e018d7e",
   "metadata": {},
   "outputs": [
    {
     "data": {
      "text/plain": [
       "array([ True, False,  True, False])"
      ]
     },
     "execution_count": 246,
     "metadata": {},
     "output_type": "execute_result"
    }
   ],
   "source": [
    "arrb"
   ]
  },
  {
   "cell_type": "code",
   "execution_count": 247,
   "id": "bd2fa1d0",
   "metadata": {},
   "outputs": [
    {
     "data": {
      "text/plain": [
       "array([11, 33])"
      ]
     },
     "execution_count": 247,
     "metadata": {},
     "output_type": "execute_result"
    }
   ],
   "source": [
    "new=arr[arrb]\n",
    "new"
   ]
  },
  {
   "cell_type": "code",
   "execution_count": 267,
   "id": "aa3614c8",
   "metadata": {},
   "outputs": [],
   "source": [
    "arre = np.array([1,2,3,4,5,6,7,7,8,9,10])"
   ]
  },
  {
   "cell_type": "code",
   "execution_count": 268,
   "id": "3bf81182",
   "metadata": {},
   "outputs": [],
   "source": [
    "filter = []\n",
    "for ele in arre:\n",
    "    if ele%2==0:\n",
    "        filter.append(ele)"
   ]
  },
  {
   "cell_type": "code",
   "execution_count": 269,
   "id": "b886eebc",
   "metadata": {},
   "outputs": [
    {
     "data": {
      "text/plain": [
       "[2, 4, 6, 8, 10]"
      ]
     },
     "execution_count": 269,
     "metadata": {},
     "output_type": "execute_result"
    }
   ],
   "source": [
    "filter"
   ]
  },
  {
   "cell_type": "code",
   "execution_count": 270,
   "id": "1a7435f9",
   "metadata": {},
   "outputs": [],
   "source": [
    "filterb = []\n",
    "for ele in arre:\n",
    "    if ele%2==0:\n",
    "        filterb.append(True)\n",
    "    else:\n",
    "        filterb.append(False)"
   ]
  },
  {
   "cell_type": "code",
   "execution_count": 271,
   "id": "5806bc84",
   "metadata": {},
   "outputs": [
    {
     "data": {
      "text/plain": [
       "[False, True, False, True, False, True, False, False, True, False, True]"
      ]
     },
     "execution_count": 271,
     "metadata": {},
     "output_type": "execute_result"
    }
   ],
   "source": [
    "filterb"
   ]
  },
  {
   "cell_type": "code",
   "execution_count": 272,
   "id": "13edc1f0",
   "metadata": {
    "scrolled": true
   },
   "outputs": [
    {
     "data": {
      "text/plain": [
       "5.636363636363637"
      ]
     },
     "execution_count": 272,
     "metadata": {},
     "output_type": "execute_result"
    }
   ],
   "source": [
    "np.mean(arre)"
   ]
  },
  {
   "cell_type": "code",
   "execution_count": 273,
   "id": "9a9eb74e",
   "metadata": {},
   "outputs": [
    {
     "data": {
      "text/plain": [
       "6.0"
      ]
     },
     "execution_count": 273,
     "metadata": {},
     "output_type": "execute_result"
    }
   ],
   "source": [
    "np.median(np.sort(arre))"
   ]
  },
  {
   "cell_type": "code",
   "execution_count": 274,
   "id": "2d8b145a",
   "metadata": {},
   "outputs": [
    {
     "data": {
      "text/plain": [
       "ModeResult(mode=array([7]), count=array([2]))"
      ]
     },
     "execution_count": 274,
     "metadata": {},
     "output_type": "execute_result"
    }
   ],
   "source": [
    "from scipy import stats\n",
    "stats.mode(arre)"
   ]
  },
  {
   "cell_type": "code",
   "execution_count": 275,
   "id": "9c5e981a",
   "metadata": {},
   "outputs": [
    {
     "data": {
      "text/plain": [
       "2.7723546694503467"
      ]
     },
     "execution_count": 275,
     "metadata": {},
     "output_type": "execute_result"
    }
   ],
   "source": [
    "np.std(arre)"
   ]
  },
  {
   "cell_type": "code",
   "execution_count": 279,
   "id": "36c233ff",
   "metadata": {},
   "outputs": [
    {
     "data": {
      "text/plain": [
       "array([ 0,  1,  2,  3,  4,  5,  6,  7,  8,  9, 10, 11])"
      ]
     },
     "execution_count": 279,
     "metadata": {},
     "output_type": "execute_result"
    }
   ],
   "source": [
    "np.arange(0,12)"
   ]
  },
  {
   "cell_type": "code",
   "execution_count": 278,
   "id": "33615e2e",
   "metadata": {},
   "outputs": [
    {
     "data": {
      "text/plain": [
       "array([ 0,  2,  4,  6,  8, 10])"
      ]
     },
     "execution_count": 278,
     "metadata": {},
     "output_type": "execute_result"
    }
   ],
   "source": [
    "np.arange(0,11,2)"
   ]
  },
  {
   "cell_type": "code",
   "execution_count": 284,
   "id": "a961e4f3",
   "metadata": {},
   "outputs": [
    {
     "data": {
      "text/plain": [
       "array([ 1.,  7., 13., 19., 25.])"
      ]
     },
     "execution_count": 284,
     "metadata": {},
     "output_type": "execute_result"
    }
   ],
   "source": [
    "np.linspace(1,25,5)"
   ]
  },
  {
   "cell_type": "code",
   "execution_count": 286,
   "id": "6e46cef8",
   "metadata": {},
   "outputs": [
    {
     "data": {
      "text/plain": [
       "array([0.        , 0.11111111, 0.22222222, 0.33333333, 0.44444444,\n",
       "       0.55555556, 0.66666667, 0.77777778, 0.88888889, 1.        ])"
      ]
     },
     "execution_count": 286,
     "metadata": {},
     "output_type": "execute_result"
    }
   ],
   "source": [
    "np.linspace(0,1,10)"
   ]
  },
  {
   "cell_type": "code",
   "execution_count": 287,
   "id": "39fe055a",
   "metadata": {},
   "outputs": [
    {
     "data": {
      "text/plain": [
       "array([0., 0.])"
      ]
     },
     "execution_count": 287,
     "metadata": {},
     "output_type": "execute_result"
    }
   ],
   "source": [
    "np.zeros(2)"
   ]
  },
  {
   "cell_type": "code",
   "execution_count": 288,
   "id": "50e5ec74",
   "metadata": {},
   "outputs": [
    {
     "data": {
      "text/plain": [
       "array([0., 0., 0., 0.])"
      ]
     },
     "execution_count": 288,
     "metadata": {},
     "output_type": "execute_result"
    }
   ],
   "source": [
    "np.zeros(4)"
   ]
  },
  {
   "cell_type": "code",
   "execution_count": 292,
   "id": "dfe6fef2",
   "metadata": {},
   "outputs": [
    {
     "data": {
      "text/plain": [
       "array([[0., 0., 0., 0.],\n",
       "       [0., 0., 0., 0.],\n",
       "       [0., 0., 0., 0.],\n",
       "       [0., 0., 0., 0.]])"
      ]
     },
     "execution_count": 292,
     "metadata": {},
     "output_type": "execute_result"
    }
   ],
   "source": [
    "np.zeros((4,4))"
   ]
  },
  {
   "cell_type": "code",
   "execution_count": 293,
   "id": "29f211c6",
   "metadata": {},
   "outputs": [
    {
     "data": {
      "text/plain": [
       "array([[0., 0., 0., 0.],\n",
       "       [0., 0., 0., 0.],\n",
       "       [0., 0., 0., 0.]])"
      ]
     },
     "execution_count": 293,
     "metadata": {},
     "output_type": "execute_result"
    }
   ],
   "source": [
    "np.zeros((3,4))"
   ]
  },
  {
   "cell_type": "code",
   "execution_count": 297,
   "id": "48ca9f4e",
   "metadata": {},
   "outputs": [
    {
     "data": {
      "text/plain": [
       "array([1., 1., 1., 1., 1., 1.])"
      ]
     },
     "execution_count": 297,
     "metadata": {},
     "output_type": "execute_result"
    }
   ],
   "source": [
    "np.ones(6)"
   ]
  },
  {
   "cell_type": "code",
   "execution_count": 295,
   "id": "e8f18961",
   "metadata": {},
   "outputs": [
    {
     "data": {
      "text/plain": [
       "array([[1., 1., 1., 1.]])"
      ]
     },
     "execution_count": 295,
     "metadata": {},
     "output_type": "execute_result"
    }
   ],
   "source": [
    "np.ones((1,4))"
   ]
  },
  {
   "cell_type": "code",
   "execution_count": 296,
   "id": "83d2af79",
   "metadata": {},
   "outputs": [
    {
     "data": {
      "text/plain": [
       "array([[1., 1., 1., 1., 1.],\n",
       "       [1., 1., 1., 1., 1.],\n",
       "       [1., 1., 1., 1., 1.]])"
      ]
     },
     "execution_count": 296,
     "metadata": {},
     "output_type": "execute_result"
    }
   ],
   "source": [
    "np.ones((3,5))"
   ]
  },
  {
   "cell_type": "code",
   "execution_count": 298,
   "id": "b8ca861a",
   "metadata": {},
   "outputs": [
    {
     "data": {
      "text/plain": [
       "array([[1., 0., 0., 0., 0.],\n",
       "       [0., 1., 0., 0., 0.],\n",
       "       [0., 0., 1., 0., 0.],\n",
       "       [0., 0., 0., 1., 0.],\n",
       "       [0., 0., 0., 0., 1.]])"
      ]
     },
     "execution_count": 298,
     "metadata": {},
     "output_type": "execute_result"
    }
   ],
   "source": [
    "np.eye(5)"
   ]
  },
  {
   "cell_type": "code",
   "execution_count": 308,
   "id": "1c562dee",
   "metadata": {},
   "outputs": [
    {
     "data": {
      "text/plain": [
       "0.04801281799240775"
      ]
     },
     "execution_count": 308,
     "metadata": {},
     "output_type": "execute_result"
    }
   ],
   "source": [
    "np.random.rand()"
   ]
  },
  {
   "cell_type": "code",
   "execution_count": 306,
   "id": "b6337112",
   "metadata": {},
   "outputs": [
    {
     "data": {
      "text/plain": [
       "array([[0.95674306, 0.72767088],\n",
       "       [0.42433568, 0.22716586]])"
      ]
     },
     "execution_count": 306,
     "metadata": {},
     "output_type": "execute_result"
    }
   ],
   "source": [
    "np.random.rand(2,2)"
   ]
  },
  {
   "cell_type": "code",
   "execution_count": 309,
   "id": "a1c017cc",
   "metadata": {},
   "outputs": [
    {
     "data": {
      "text/plain": [
       "array([0.24812677, 0.70308179, 0.69673713, 0.57333587, 0.69009441])"
      ]
     },
     "execution_count": 309,
     "metadata": {},
     "output_type": "execute_result"
    }
   ],
   "source": [
    "np.random.rand(5)"
   ]
  },
  {
   "cell_type": "code",
   "execution_count": 318,
   "id": "fce9214c",
   "metadata": {},
   "outputs": [
    {
     "data": {
      "text/plain": [
       "-3"
      ]
     },
     "execution_count": 318,
     "metadata": {},
     "output_type": "execute_result"
    }
   ],
   "source": [
    "np.random.randint(-10,-1)"
   ]
  },
  {
   "cell_type": "code",
   "execution_count": 319,
   "id": "d6096aa7",
   "metadata": {},
   "outputs": [
    {
     "data": {
      "text/plain": [
       "array([0.80039446, 0.38758638, 0.37929477, 0.61729226, 0.62480376,\n",
       "       0.35210069])"
      ]
     },
     "execution_count": 319,
     "metadata": {},
     "output_type": "execute_result"
    }
   ],
   "source": [
    "np.random.rand(6)"
   ]
  },
  {
   "cell_type": "code",
   "execution_count": 320,
   "id": "524eb465",
   "metadata": {},
   "outputs": [
    {
     "data": {
      "text/plain": [
       "array([0.15191765, 0.23981458, 0.2508881 , 0.43849962, 0.60515932,\n",
       "       0.88723727])"
      ]
     },
     "execution_count": 320,
     "metadata": {},
     "output_type": "execute_result"
    }
   ],
   "source": [
    "np.sort(np.random.rand(6))"
   ]
  },
  {
   "cell_type": "code",
   "execution_count": 324,
   "id": "37931330",
   "metadata": {},
   "outputs": [
    {
     "data": {
      "text/plain": [
       "array([[7, 6, 2],\n",
       "       [3, 3, 7]])"
      ]
     },
     "execution_count": 324,
     "metadata": {},
     "output_type": "execute_result"
    }
   ],
   "source": [
    "np.random.randint(2,8,(2,3))"
   ]
  },
  {
   "cell_type": "code",
   "execution_count": 349,
   "id": "02695581",
   "metadata": {},
   "outputs": [
    {
     "data": {
      "text/plain": [
       "array([   6,   13,   26,   28,   29,   32,   33,   34,   51,   75,   78,\n",
       "        111,  119,  122,  129,  143,  151,  164,  183,  185,  203,  212,\n",
       "        215,  237,  242,  245,  257,  260,  261,  263,  298,  301,  302,\n",
       "        313,  351,  360,  364,  368,  382,  384,  388,  418,  434,  462,\n",
       "        463,  476,  482,  483,  490,  501,  501,  509,  521,  527,  532,\n",
       "        538,  539,  546,  547,  547,  549,  565,  568,  570,  571,  578,\n",
       "        579,  581,  583,  591,  610,  616,  617,  623,  637,  656,  675,\n",
       "        683,  697,  716,  717,  732,  737,  744,  747,  755,  785,  791,\n",
       "        806,  816,  821,  849,  874,  899,  899,  905,  911,  922,  923,\n",
       "        928,  944,  974,  986, 1007, 1008, 1014, 1027, 1035, 1078, 1083,\n",
       "       1090, 1099, 1102, 1102, 1117, 1123, 1124, 1152, 1157, 1165, 1166,\n",
       "       1168, 1189, 1200, 1204, 1206, 1211, 1223, 1226, 1234, 1255, 1263,\n",
       "       1273, 1277, 1284, 1287, 1288, 1324, 1325, 1326, 1353, 1354, 1368,\n",
       "       1374, 1376, 1376, 1377, 1404, 1406, 1418, 1422, 1427, 1444, 1449,\n",
       "       1451, 1460, 1466, 1466, 1471, 1476, 1499, 1501, 1501, 1507, 1509,\n",
       "       1520, 1525, 1560, 1561, 1565, 1569, 1577, 1592, 1601, 1623, 1626,\n",
       "       1628, 1629, 1652, 1653, 1656, 1659, 1666, 1667, 1674, 1684, 1687,\n",
       "       1700, 1705, 1707, 1747, 1753, 1763, 1782, 1784, 1785, 1785, 1808,\n",
       "       1827, 1830, 1844, 1851, 1881, 1885, 1895, 1897, 1899, 1903, 1905,\n",
       "       1916, 1917, 1947, 1957, 1958, 1970, 1980, 1980, 1981, 1986, 1988,\n",
       "       2022, 2045, 2063, 2064, 2075, 2081, 2088, 2091, 2115, 2117, 2126,\n",
       "       2147, 2160, 2169, 2182, 2185, 2186, 2200, 2210, 2226, 2237, 2240,\n",
       "       2252, 2269, 2281, 2286, 2306, 2307, 2317, 2333, 2334, 2335, 2360,\n",
       "       2368, 2377, 2399, 2422, 2423, 2428, 2428, 2436, 2441, 2449, 2468,\n",
       "       2484, 2486, 2488, 2523, 2523, 2549, 2550, 2555, 2576, 2592, 2609,\n",
       "       2631, 2636, 2636, 2639, 2655, 2656, 2662, 2680, 2696, 2699, 2704,\n",
       "       2708, 2722, 2728, 2753, 2765, 2770, 2770, 2775, 2777, 2778, 2787,\n",
       "       2787, 2788, 2807, 2809, 2816, 2816, 2819, 2820, 2824, 2838, 2842,\n",
       "       2852, 2854, 2870, 2879, 2906, 2940, 2972, 2983, 2992, 3013, 3016,\n",
       "       3018, 3046, 3051, 3061, 3079, 3079, 3099, 3143, 3151, 3155, 3155,\n",
       "       3157, 3167, 3174, 3183, 3184, 3198, 3202, 3214, 3221, 3222, 3224,\n",
       "       3226, 3226, 3240, 3241, 3244, 3248, 3248, 3254, 3257, 3273, 3281,\n",
       "       3290, 3319, 3329, 3335, 3343, 3346, 3354, 3360, 3374, 3387, 3391,\n",
       "       3408, 3410, 3412, 3424, 3427, 3458, 3464, 3473, 3501, 3521, 3526,\n",
       "       3540, 3564, 3569, 3581, 3584, 3593, 3594, 3596, 3596, 3605, 3610,\n",
       "       3613, 3644, 3657, 3669, 3713, 3730, 3737, 3765, 3773, 3785, 3789,\n",
       "       3793, 3794, 3803, 3815, 3822, 3834, 3835, 3849, 3868, 3887, 3891,\n",
       "       3892, 3892, 3899, 3909, 3911, 3913, 3918, 3920, 3926, 3928, 3929,\n",
       "       3946, 3981, 3984, 3991, 3992, 4016, 4017, 4024, 4025, 4027, 4066,\n",
       "       4079, 4102, 4105, 4113, 4116, 4146, 4149, 4151, 4158, 4161, 4162,\n",
       "       4170, 4175, 4189, 4195, 4200, 4212, 4212, 4243, 4257, 4266, 4292,\n",
       "       4302, 4306, 4309, 4312, 4327, 4333, 4339, 4345, 4367, 4382, 4397,\n",
       "       4397, 4399, 4408, 4416, 4418, 4420, 4429, 4434, 4434, 4447, 4456,\n",
       "       4461, 4477, 4492, 4505, 4524, 4533, 4542, 4553, 4557, 4559, 4564,\n",
       "       4567, 4579, 4583, 4600, 4603, 4635, 4643, 4657, 4659, 4663, 4689,\n",
       "       4747, 4772, 4778, 4793, 4835, 4837, 4840, 4847, 4848, 4860, 4899,\n",
       "       4909, 4915, 4948, 4959, 4962, 4967, 4972, 4984, 4989, 4997, 5010,\n",
       "       5010, 5013, 5021, 5028, 5033, 5041, 5043, 5043, 5067, 5073, 5078,\n",
       "       5086, 5101, 5116, 5118, 5132, 5138, 5142, 5152, 5162, 5183, 5193,\n",
       "       5199, 5200, 5202, 5209, 5233, 5234, 5237, 5238, 5241, 5244, 5249,\n",
       "       5250, 5265, 5274, 5285, 5306, 5313, 5315, 5316, 5341, 5344, 5345,\n",
       "       5347, 5362, 5381, 5390, 5392, 5394, 5395, 5406, 5410, 5458, 5458,\n",
       "       5463, 5467, 5470, 5476, 5487, 5493, 5494, 5499, 5500, 5502, 5502,\n",
       "       5526, 5542, 5549, 5551, 5552, 5555, 5557, 5573, 5597, 5601, 5632,\n",
       "       5668, 5679, 5710, 5717, 5729, 5730, 5739, 5742, 5757, 5758, 5763,\n",
       "       5774, 5821, 5830, 5853, 5874, 5890, 5893, 5907, 5908, 5939, 5940,\n",
       "       5944, 5946, 5976, 5979, 5992, 5992, 5997, 6020, 6040, 6066, 6085,\n",
       "       6085, 6106, 6106, 6136, 6151, 6165, 6172, 6216, 6220, 6226, 6230,\n",
       "       6241, 6248, 6252, 6253, 6274, 6297, 6306, 6317, 6322, 6325, 6336,\n",
       "       6339, 6339, 6347, 6351, 6378, 6412, 6426, 6433, 6455, 6457, 6463,\n",
       "       6468, 6468, 6474, 6475, 6479, 6482, 6502, 6515, 6519, 6525, 6534,\n",
       "       6535, 6538, 6543, 6560, 6564, 6572, 6574, 6588, 6624, 6630, 6638,\n",
       "       6641, 6652, 6658, 6703, 6710, 6712, 6724, 6739, 6739, 6755, 6785,\n",
       "       6790, 6792, 6801, 6801, 6806, 6821, 6825, 6827, 6836, 6864, 6874,\n",
       "       6905, 6912, 6920, 6922, 6958, 6960, 6976, 6977, 6984, 6993, 7000,\n",
       "       7005, 7013, 7020, 7028, 7034, 7041, 7041, 7046, 7048, 7056, 7068,\n",
       "       7086, 7087, 7090, 7110, 7113, 7119, 7132, 7136, 7151, 7151, 7152,\n",
       "       7154, 7167, 7181, 7190, 7203, 7203, 7208, 7215, 7260, 7283, 7306,\n",
       "       7308, 7313, 7316, 7333, 7346, 7359, 7365, 7375, 7392, 7401, 7403,\n",
       "       7408, 7436, 7443, 7444, 7503, 7512, 7526, 7530, 7533, 7536, 7541,\n",
       "       7564, 7570, 7588, 7600, 7603, 7635, 7667, 7668, 7680, 7689, 7703,\n",
       "       7706, 7714, 7728, 7744, 7751, 7760, 7763, 7769, 7776, 7779, 7801,\n",
       "       7805, 7823, 7833, 7843, 7845, 7854, 7860, 7870, 7873, 7876, 7882,\n",
       "       7888, 7899, 7899, 7900, 7900, 7933, 7935, 7941, 7950, 7953, 8008,\n",
       "       8010, 8020, 8051, 8051, 8064, 8065, 8073, 8114, 8115, 8118, 8134,\n",
       "       8137, 8151, 8164, 8205, 8208, 8214, 8215, 8277, 8302, 8311, 8328,\n",
       "       8333, 8335, 8338, 8358, 8376, 8390, 8409, 8427, 8432, 8439, 8443,\n",
       "       8456, 8458, 8465, 8481, 8499, 8504, 8529, 8545, 8548, 8549, 8553,\n",
       "       8565, 8567, 8609, 8614, 8621, 8643, 8650, 8684, 8695, 8702, 8707,\n",
       "       8712, 8716, 8720, 8724, 8741, 8750, 8754, 8763, 8765, 8786, 8791,\n",
       "       8815, 8817, 8818, 8829, 8831, 8842, 8860, 8867, 8879, 8892, 8894,\n",
       "       8926, 8933, 8933, 8933, 8970, 8983, 8985, 9018, 9036, 9037, 9039,\n",
       "       9057, 9074, 9075, 9076, 9132, 9140, 9157, 9162, 9164, 9166, 9176,\n",
       "       9177, 9185, 9188, 9206, 9209, 9211, 9220, 9241, 9242, 9247, 9281,\n",
       "       9308, 9309, 9314, 9316, 9316, 9317, 9332, 9365, 9371, 9384, 9390,\n",
       "       9401, 9425, 9434, 9448, 9454, 9463, 9467, 9483, 9489, 9500, 9516,\n",
       "       9517, 9521, 9521, 9524, 9527, 9528, 9533, 9533, 9553, 9555, 9558,\n",
       "       9579, 9589, 9593, 9595, 9609, 9621, 9628, 9637, 9651, 9655, 9655,\n",
       "       9658, 9662, 9666, 9671, 9682, 9691, 9691, 9699, 9702, 9710, 9727,\n",
       "       9733, 9750, 9751, 9770, 9778, 9781, 9802, 9807, 9817, 9857, 9875,\n",
       "       9890, 9890, 9902, 9904, 9908, 9963, 9972, 9979, 9983, 9987])"
      ]
     },
     "execution_count": 349,
     "metadata": {},
     "output_type": "execute_result"
    }
   ],
   "source": [
    "randele = np.sort(np.random.randint(1,10000,size=1000))\n",
    "randele"
   ]
  },
  {
   "cell_type": "code",
   "execution_count": 332,
   "id": "a88b285f",
   "metadata": {},
   "outputs": [
    {
     "data": {
      "text/plain": [
       "array([ 1,  2,  3,  4,  5,  6,  7,  7,  8,  9, 10])"
      ]
     },
     "execution_count": 332,
     "metadata": {},
     "output_type": "execute_result"
    }
   ],
   "source": [
    "arre"
   ]
  },
  {
   "cell_type": "code",
   "execution_count": 350,
   "id": "2c742ab2",
   "metadata": {},
   "outputs": [
    {
     "data": {
      "text/plain": [
       "6"
      ]
     },
     "execution_count": 350,
     "metadata": {},
     "output_type": "execute_result"
    }
   ],
   "source": [
    "np.min(randele)"
   ]
  },
  {
   "cell_type": "code",
   "execution_count": 351,
   "id": "f3699a7f",
   "metadata": {},
   "outputs": [
    {
     "data": {
      "text/plain": [
       "9987"
      ]
     },
     "execution_count": 351,
     "metadata": {},
     "output_type": "execute_result"
    }
   ],
   "source": [
    "np.max(randele)"
   ]
  },
  {
   "cell_type": "code",
   "execution_count": 352,
   "id": "89bf96c6",
   "metadata": {},
   "outputs": [
    {
     "data": {
      "text/plain": [
       "4867.085"
      ]
     },
     "execution_count": 352,
     "metadata": {},
     "output_type": "execute_result"
    }
   ],
   "source": [
    "np.mean(randele)"
   ]
  },
  {
   "cell_type": "code",
   "execution_count": 353,
   "id": "44dcd4c1",
   "metadata": {},
   "outputs": [
    {
     "data": {
      "text/plain": [
       "4836.0"
      ]
     },
     "execution_count": 353,
     "metadata": {},
     "output_type": "execute_result"
    }
   ],
   "source": [
    "np.median(randele)"
   ]
  },
  {
   "cell_type": "code",
   "execution_count": 354,
   "id": "33231b49",
   "metadata": {},
   "outputs": [
    {
     "data": {
      "text/plain": [
       "2902.0626753698825"
      ]
     },
     "execution_count": 354,
     "metadata": {},
     "output_type": "execute_result"
    }
   ],
   "source": [
    "np.std(randele)"
   ]
  },
  {
   "cell_type": "code",
   "execution_count": 355,
   "id": "e830eae3",
   "metadata": {},
   "outputs": [
    {
     "data": {
      "text/plain": [
       "ModeResult(mode=array([8933]), count=array([3]))"
      ]
     },
     "execution_count": 355,
     "metadata": {},
     "output_type": "execute_result"
    }
   ],
   "source": [
    "from scipy import stats\n",
    "\n",
    "stats.mode(randele)"
   ]
  },
  {
   "cell_type": "code",
   "execution_count": 377,
   "id": "4629a9fe",
   "metadata": {},
   "outputs": [
    {
     "data": {
      "text/plain": [
       "array([ 1,  6,  2,  3,  4,  7,  7, 10,  9,  5,  8])"
      ]
     },
     "execution_count": 377,
     "metadata": {},
     "output_type": "execute_result"
    }
   ],
   "source": [
    "arre"
   ]
  },
  {
   "cell_type": "code",
   "execution_count": 376,
   "id": "a8312d0a",
   "metadata": {},
   "outputs": [
    {
     "data": {
      "text/plain": [
       "array([ 1,  6,  2,  3,  4,  7,  7, 10,  9,  5,  8])"
      ]
     },
     "execution_count": 376,
     "metadata": {},
     "output_type": "execute_result"
    }
   ],
   "source": [
    "#shuffle\n",
    "x = np.random.shuffle(arre)\n",
    "arre"
   ]
  },
  {
   "cell_type": "code",
   "execution_count": 378,
   "id": "37aae150",
   "metadata": {},
   "outputs": [
    {
     "data": {
      "text/plain": [
       "array([44, 11, 12, 33])"
      ]
     },
     "execution_count": 378,
     "metadata": {},
     "output_type": "execute_result"
    }
   ],
   "source": [
    "arr"
   ]
  },
  {
   "cell_type": "code",
   "execution_count": 381,
   "id": "a22c6a35",
   "metadata": {},
   "outputs": [
    {
     "data": {
      "text/plain": [
       "array([12, 11, 44, 33])"
      ]
     },
     "execution_count": 381,
     "metadata": {},
     "output_type": "execute_result"
    }
   ],
   "source": [
    "#shuffle using permutation\n",
    "\n",
    "np.random.permutation(arr)"
   ]
  },
  {
   "cell_type": "code",
   "execution_count": 382,
   "id": "45042e6a",
   "metadata": {},
   "outputs": [
    {
     "data": {
      "text/plain": [
       "array([44, 11, 12, 33])"
      ]
     },
     "execution_count": 382,
     "metadata": {},
     "output_type": "execute_result"
    }
   ],
   "source": [
    "arr"
   ]
  },
  {
   "cell_type": "code",
   "execution_count": null,
   "id": "674fb0a1",
   "metadata": {},
   "outputs": [],
   "source": []
  }
 ],
 "metadata": {
  "kernelspec": {
   "display_name": "Python 3 (ipykernel)",
   "language": "python",
   "name": "python3"
  },
  "language_info": {
   "codemirror_mode": {
    "name": "ipython",
    "version": 3
   },
   "file_extension": ".py",
   "mimetype": "text/x-python",
   "name": "python",
   "nbconvert_exporter": "python",
   "pygments_lexer": "ipython3",
   "version": "3.9.7"
  }
 },
 "nbformat": 4,
 "nbformat_minor": 5
}
